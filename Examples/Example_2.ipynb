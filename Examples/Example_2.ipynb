{
    "nbformat": 3, 
    "nbformat_minor": 0, 
    "worksheets": [
        {
            "cells": [
                {
                    "cell_type": "code", 
                    "language": "python", 
                    "input": "# can I have a comment here?\nimport re\na = 5\nprint re.search('a', \"helalo\") != None\nprint re.search('a', \"hallo\") != None", 
                    "outputs": [], 
                    "collapsed": false, 
                    "metadata": {}
                }, 
                {
                    "cell_type": "code", 
                    "language": "python", 
                    "input": "a = 30 * 25\nfor i in range(0,5):\n    print i", 
                    "outputs": [], 
                    "collapsed": false, 
                    "metadata": {}
                }, 
                {
                    "source": "This is a sigma $\\sigma$ symbol in markdown and a forall $\\forall$ symbol too!\n\nHere's some mathematics $ 1 + 2 - 3 * 5 / 15$ and \"quoted\" information\n\nAnd an integral for good measure $\\int_{5}^{10}f(x)dx$\n\n#Markdown header! ", 
                    "cell_type": "markdown", 
                    "metadata": {}
                }, 
                {
                    "cell_type": "code", 
                    "language": "python", 
                    "input": "a = 5\nb = 10\na + b", 
                    "outputs": [], 
                    "collapsed": false, 
                    "metadata": {}
                }, 
                {
                    "source": "# BIG MARKDOWN HEADER!\n\nMarkdown line two, here's some math:  $\\sigma+\\alpha=\\beta$", 
                    "cell_type": "markdown", 
                    "metadata": {}
                }, 
                {
                    "cell_type": "code", 
                    "language": "python", 
                    "input": "a=20\nb=34\nc=45", 
                    "outputs": [], 
                    "collapsed": false, 
                    "metadata": {}
                }, 
                {
                    "source": "# BIG MARKDOWN HEADER!\n\nMarkdown line two, here's some math:  $\\sigma+\\alpha=\\beta$\n\nIndenting entire blocks is ok too, \n", 
                    "cell_type": "markdown", 
                    "metadata": {}
                }, 
                {
                    "cell_type": "code", 
                    "language": "python", 
                    "input": "a=24\nb=35\nc=41", 
                    "outputs": [], 
                    "collapsed": false, 
                    "metadata": {}
                }, 
                {
                    "cell_type": "code", 
                    "language": "python", 
                    "input": "# See, this block is indented and the for loop's appropriate indentations \n# are preserved too!\nfor i in range(0,5):\n\ta = i * 10\n\tb = a * i\n\tfor k in range(1,2):\n\t\tb = a + 2 * k\n\t\td = b", 
                    "outputs": [], 
                    "collapsed": false, 
                    "metadata": {}
                }
            ]
        }
    ], 
    "metadata": {
        "name": ""
    }
}