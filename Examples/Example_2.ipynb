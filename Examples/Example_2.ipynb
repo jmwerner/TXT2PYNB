{
    "nbformat": 3, 
    "nbformat_minor": 0, 
    "worksheets": [
        {
            "cells": [
                {
                    "cell_type": "code", 
                    "language": "python", 
                    "input": "# can I have a comment here?\nimport re\na = 5\nprint re.search('a', \"helalo\") != None\nprint re.search('a', \"hallo\") != None", 
                    "outputs": [], 
                    "collapsed": false, 
                    "metadata": {}
                }, 
                {
                    "cell_type": "code", 
                    "language": "python", 
                    "input": "a = 30 * 25\nfor i in range(0,5):\n    print i", 
                    "outputs": [], 
                    "collapsed": false, 
                    "metadata": {}
                }, 
                {
                    "source": "This is a sigma $\\sigma$ symbol in markdown and a forall $\\forall$ symbol too!\n\nHere's some mathematics $ 1 + 2 - 3 * 5 / 15$ and \"quoted\" information\n\nAnd an integral for good measure $\\int_{5}^{10}f(x)dx$\n\n#Markdown header! ", 
                    "cell_type": "markdown", 
                    "metadata": {}
                }, 
                {
                    "cell_type": "code", 
                    "language": "python", 
                    "input": "a = 5\nb = 10\na + b", 
                    "outputs": [], 
                    "collapsed": false, 
                    "metadata": {}
                }, 
                {
                    "source": "# BIG MARKDOWN HEADER!\n\nMarkdown line two, here's some math:  $\\sigma+\\alpha=\\beta$", 
                    "cell_type": "markdown", 
                    "metadata": {}
                }, 
                {
                    "cell_type": "code", 
                    "language": "python", 
                    "input": "\na=20\nb=34\nc=45", 
                    "outputs": [], 
                    "collapsed": false, 
                    "metadata": {}
                }, 
                {
                    "source": "# BIG MARKDOWN HEADER!\n\nMarkdown line two, here's some math:  $\\sigma+\\alpha=\\beta$\n", 
                    "cell_type": "markdown", 
                    "metadata": {}
                }, 
                {
                    "cell_type": "code", 
                    "language": "python", 
                    "input": "\n\ta=24\n\tb=35\n\tc=41", 
                    "outputs": [], 
                    "collapsed": false, 
                    "metadata": {}
                }, 
                {
                    "cell_type": "code", 
                    "language": "python", 
                    "input": "for i in range(0,5):\n\ta = i * 10\n\tb = a * i\n\tfor k in range(1,2):\n\t\tb = a + 2 * k\n\t\td = b", 
                    "outputs": [], 
                    "collapsed": false, 
                    "metadata": {}
                }
            ]
        }
    ], 
    "metadata": {
        "name": ""
    }
}