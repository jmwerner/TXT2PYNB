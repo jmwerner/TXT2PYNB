{
	"metadata": {
 		"name": ""
	}, 
	"nbformat": 3,
	"nbformat_minor": 0,
	"worksheets": [
		{
			"cells": [
			{
 			 "cell_type": "code", 
			 "collapsed": false, 
			 "input": [ 
"# This script illustrates the double space delimiting between blocks. Be sure to\n",
"# include the flag above ^^^"
			],
 			"language": "python",
			"metadata": {},
			"outputs": [] 
			},
			{
 			 "cell_type": "code", 
			 "collapsed": false, 
			 "input": [ 
"    # can I have a comment here?\n",
"    import re\n",
"    a = 5\n",
"    print re.search('a', \"helalo\") != None\n",
"    print re.search('a', \"hallo\") != None"
			],
 			"language": "python",
			"metadata": {},
			"outputs": [] 
			},
			{
 			 "cell_type": "code", 
			 "collapsed": false, 
			 "input": [ 
"a = 30 * 25\n",
"for i in range(0,5):\n",
"    print i"
			],
 			"language": "python",
			"metadata": {},
			"outputs": [] 
			},
			{
 			 "cell_type": "markdown", 
			"metadata": {},
			"source": [ 
"This is a sigma $\\sigma$ symbol in markdown and a forall $\\forall$ symbol too!\n",
"\n",
"Here's some mathematics $ 1 + 2 - 3 * 5 / 15$ and \"quoted\" information\n",
"\n",
"And an integral for good measure $\\int_{5}^{10}f(x)dx$\n",
"\n",
"#Markdown header! \n",
""
			] 
			}
			],
		"metadata": {} 
	} 
	]
}