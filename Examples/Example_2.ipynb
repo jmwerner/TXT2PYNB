{
    "nbformat": 3, 
    "nbformat_minor": 0, 
    "worksheets": [
        {
            "cells": [
                {
                    "cell_type": "code", 
                    "language": "python", 
                    "input": "\n# This script illustrates the double space delimiting between blocks. Be sure to\n# include the flag above ^^^", 
                    "outputs": [], 
                    "collapsed": false, 
                    "metadata": {}
                }, 
                {
                    "cell_type": "code", 
                    "language": "python", 
                    "input": "    # can I have a comment here?\n    import re\n    a = 5\n    print re.search('a', \"helalo\") != None\n    print re.search('a', \"hallo\") != None", 
                    "outputs": [], 
                    "collapsed": false, 
                    "metadata": {}
                }, 
                {
                    "cell_type": "code", 
                    "language": "python", 
                    "input": "a = 30 * 25\nfor i in range(0,5):\n    print i", 
                    "outputs": [], 
                    "collapsed": false, 
                    "metadata": {}
                }, 
                {
                    "source": "\n\nThis is a sigma $\\sigma$ symbol in markdown and a forall $\\forall$ symbol too!\n\nHere's some mathematics $ 1 + 2 - 3 * 5 / 15$ and \"quoted\" information\n\nAnd an integral for good measure $\\int_{5}^{10}f(x)dx$\n\n#Markdown header! \n", 
                    "cell_type": "markdown", 
                    "metadata": {}
                }
            ]
        }
    ], 
    "metadata": {
        "name": ""
    }
}