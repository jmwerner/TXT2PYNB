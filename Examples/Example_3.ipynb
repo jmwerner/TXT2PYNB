{
    "nbformat": 3, 
    "nbformat_minor": 0, 
    "worksheets": [
        {
            "cells": [
                {
                    "source": "This notebook is space delimited, as you can see. \n\nIn the newer versions of this script, a flag is not necessary to have it parsed that way. \n\nJust don't include any code or md tags!", 
                    "cell_type": "markdown", 
                    "metadata": {}
                }, 
                {
                    "cell_type": "code", 
                    "language": "julia", 
                    "input": "a = rand(5,5)", 
                    "outputs": [], 
                    "collapsed": false, 
                    "metadata": {}
                }, 
                {
                    "cell_type": "code", 
                    "language": "julia", 
                    "input": "b = a + 5", 
                    "outputs": [], 
                    "collapsed": false, 
                    "metadata": {}
                }, 
                {
                    "source": "This is markdown squished on top of a code block", 
                    "cell_type": "markdown", 
                    "metadata": {}
                }, 
                {
                    "cell_type": "code", 
                    "language": "julia", 
                    "input": "c = a+25", 
                    "outputs": [], 
                    "collapsed": false, 
                    "metadata": {}
                }, 
                {
                    "source": "#Markdown header!", 
                    "cell_type": "markdown", 
                    "metadata": {}
                }
            ]
        }
    ], 
    "metadata": {
        "name": ""
    }
}