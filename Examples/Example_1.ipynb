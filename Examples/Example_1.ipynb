{
    "nbformat": 3, 
    "nbformat_minor": 0, 
    "worksheets": [
        {
            "cells": [
                {
                    "cell_type": "code", 
                    "language": "python", 
                    "input": "a = 5", 
                    "outputs": [], 
                    "collapsed": false, 
                    "metadata": {}
                }, 
                {
                    "cell_type": "code", 
                    "language": "python", 
                    "input": "# This code uses 4 spaces instead of a tab\nb = 10\nprint b * 20", 
                    "outputs": [], 
                    "collapsed": false, 
                    "metadata": {}
                }, 
                {
                    "cell_type": "code", 
                    "language": "python", 
                    "input": "c = b * 25", 
                    "outputs": [], 
                    "collapsed": false, 
                    "metadata": {}
                }, 
                {
                    "cell_type": "code", 
                    "language": "python", 
                    "input": "# This code uses tabs\na = b * 25\nfor i in range(0,5):\n\tb = a + i\n\tprint b", 
                    "outputs": [], 
                    "collapsed": false, 
                    "metadata": {}
                }, 
                {
                    "source": "This here is markdown\n\nThis is line two of markdown. Isn't it beautiful?\n\nThis is line three of markdown\n\n#Markdown header! ", 
                    "cell_type": "markdown", 
                    "metadata": {}
                }
            ]
        }
    ], 
    "metadata": {
        "name": ""
    }
}