{
    "nbformat": 3, 
    "nbformat_minor": 0, 
    "worksheets": [
        {
            "cells": [
                {
                    "cell_type": "code", 
                    "language": "python", 
                    "input": "a = 5\nd = 5000\ne = 509248734", 
                    "outputs": [], 
                    "collapsed": false, 
                    "metadata": {}
                }, 
                {
                    "cell_type": "code", 
                    "language": "python", 
                    "input": "b = 10\nprint b * 20", 
                    "outputs": [], 
                    "collapsed": false, 
                    "metadata": {}
                }, 
                {
                    "cell_type": "code", 
                    "language": "python", 
                    "input": "# This code uses 4 spaces instead of a tab (pep8 compliance)\nfor i in range(0,5):\n    b = a + i\n    print b", 
                    "outputs": [], 
                    "collapsed": false, 
                    "metadata": {}
                }, 
                {
                    "cell_type": "code", 
                    "language": "python", 
                    "input": "# This code uses tabs\na = b * 25\nfor i in range(0,5):\n\tb = a + i\n\tprint b", 
                    "outputs": [], 
                    "collapsed": false, 
                    "metadata": {}
                }, 
                {
                    "source": "This here is markdown\n\nThis is line two of markdown. Isn't it beautiful?\n\nThis is line three of markdown\n\n#Markdown header! ", 
                    "cell_type": "markdown", 
                    "metadata": {}
                }
            ]
        }
    ], 
    "metadata": {
        "name": ""
    }
}