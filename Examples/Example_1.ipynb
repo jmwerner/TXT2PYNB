{
	"metadata": {
 		"name": ""
	}, 
	"nbformat": 3,
	"nbformat_minor": 0,
	"worksheets": [
		{
			"cells": [
			{
 			 "cell_type": "code", 
			 "collapsed": false, 
			 "input": [ 
"a = 5"
			],
 			"language": "python",
			"metadata": {},
			"outputs": [] 
			},
			{
 			 "cell_type": "code", 
			 "collapsed": false, 
			 "input": [ 
"    b = 10\n",
"    print b * 20"
			],
 			"language": "python",
			"metadata": {},
			"outputs": [] 
			},
			{
 			 "cell_type": "code", 
			 "collapsed": false, 
			 "input": [ 
"    a = b * 25"
			],
 			"language": "python",
			"metadata": {},
			"outputs": [] 
			},
			{
 			 "cell_type": "markdown", 
			"metadata": {},
			"source": [ 
"This here is markdown\n",
"\n",
"This is line two of markdown. Isn't it beautiful?\n",
"\n",
"This is line three of markdown\n",
"\n",
"#Markdown header! \n",
""
			] 
			}
			],
		"metadata": {} 
	} 
	]
}